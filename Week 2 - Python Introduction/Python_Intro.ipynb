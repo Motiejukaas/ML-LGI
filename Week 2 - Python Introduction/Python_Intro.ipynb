{
  "cells": [
    {
      "cell_type": "markdown",
      "id": "1cb6ad38",
      "metadata": {
        "id": "1cb6ad38"
      },
      "source": [
        "# Python Tutorial\n",
        "\n",
        "This notebook is devoted towards reviewing the essential Python programming concepts and language mechanics. We will start by covering the basics of Python and, afterward, transition into Python's built-in data structures and files. <br>\n",
        "https://www.datacamp.com/courses/intro-to-python-for-data-science<br>\n",
        "https://www.edx.org/python-for-data-science<br>\n",
        "https://eu.udacity.com/course/introduction-to-python--ud1110\n",
        "\n",
        "\n",
        "## Why Python?\n",
        "\n",
        "Python is an <b>open-source</b>, <b>general-purpose</b> high-level programming language. Python’s popularity stems from its power and its ability to execute a variety of complex computations while while retaining simple and readable syntax. All relevant documentation is freely available using the link: https://www.python.org/doc/"
      ]
    },
    {
      "cell_type": "markdown",
      "id": "8eae8248",
      "metadata": {
        "id": "8eae8248"
      },
      "source": [
        "<div class=\"alert alert-block alert-info\">\n",
        "    \n",
        "# TOC<a class=\"anchor\"><a id='toc'></a><br>\n",
        "1. [<font color=''>Basic Python Review</font>](#first-bullet) <br>\n",
        "    1.1. [<font color=''>Variables</font>](#second-bullet) <br>\n",
        "    1.2. [<font color=''>Mathematical Operators</font>](#third-bullet) <br>\n",
        "    1.3. [<font color=''>Python data types</font>](#fourth-bullet) <br>\n",
        "    1.4. [<font color=''>Strings</font>](#fifth-bullet) <br>\n",
        "2. [<font color=''>Collection data types</font>](#sixth-bullet)<br>\n",
        "    2.1. [<font color=''>Lists</font>](#seventh-bullet) <br>\n",
        "    2.2. [<font color=''>Tuples</font>](#eighth-bullet) <br>\n",
        "    2.3. [<font color=''>Dictionaries</font>](#nineth-bullet) <br>\n",
        "3. [<font color=''>Control Flow</font>](#tenth-bullet)<br>\n",
        "    3.1. [<font color=''>Conditions</font>](#eleventh-bullet) <br>\n",
        "    3.2. [<font color=''>For Loops</font>](#twelveth-bullet) <br>\n",
        "    3.3. [<font color=''>While Loops</font>](#thirteenth-bullet) <br>\n",
        "4. [<font color=''>Functions</font>](#fourteenth-bullet)<br>\n",
        "    4.1. [<font color=''>Basic Functions</font>](#fifteenth-bullet) <br>\n",
        "    4.2. [<font color=''>Variables</font>](#sixteenth-bullet) <br>\n",
        "    4.3. [<font color=''>Recursion</font>](#seventeenth-bullet) <br>\n",
        "    4.4. [<font color=''>Functions that use input from the user</font>](#eighteenth-bullet) <br>\n",
        "\n",
        "    \n",
        "</div>"
      ]
    },
    {
      "cell_type": "code",
      "execution_count": 1,
      "id": "VZ3JoAux3SAm",
      "metadata": {
        "colab": {
          "base_uri": "https://localhost:8080/"
        },
        "id": "VZ3JoAux3SAm",
        "outputId": "47254739-40d6-4264-9a94-161a3589994a"
      },
      "outputs": [
        {
          "output_type": "stream",
          "name": "stdout",
          "text": [
            "Mounted at /content/drive\n"
          ]
        }
      ],
      "source": [
        "from google.colab import drive\n",
        "drive.mount('/content/drive')\n",
        "\n",
        "path = 'Colab Notebooks/ML - LGI /Week2 - Python Intro'"
      ]
    },
    {
      "cell_type": "markdown",
      "id": "aecb81c6",
      "metadata": {
        "id": "aecb81c6"
      },
      "source": [
        "## 1. Basic Python Review <a class=\"anchor\" id=\"first-bullet\"></a>\n",
        "[Back to TOC](#toc)\n",
        "\n",
        "### 1.1 Variables <a class=\"anchor\" id=\"second-bullet\"></a>\n",
        "\n",
        "- A variable is a name.\n",
        "- An assignment associates the name on the left side of the `=` operator to the object denoted by the expression on the right side of `=`.\n",
        "- Variables should have names with meaning that are easy to read and associate with the object we want to represent.\n",
        "- The following words are reserved and cannot be used as variables:\n",
        "  - `False class finally is return None continue for lambda try True def from nonlocal while and del global not with as elif if or yield assert else import pass break except in raise`\n",
        "\n",
        "\n",
        "\n",
        "<b>1. Create a variable with name \"x\" and a value of 10.\\\n",
        "    Then show the value of \"x\".</b>"
      ]
    },
    {
      "cell_type": "code",
      "execution_count": null,
      "id": "2aa9c240",
      "metadata": {
        "id": "2aa9c240"
      },
      "outputs": [],
      "source": [
        "#CODE HERE"
      ]
    },
    {
      "cell_type": "markdown",
      "id": "96c8170d",
      "metadata": {
        "id": "96c8170d"
      },
      "source": [
        "Python allows multiple statements to be placed in a single line.\n",
        "\n",
        "<b>2. Create four new variables: a,b,c, and d, that are equal to 10, 20, 30, and 40, respectively. Then show the value of b and d on the same cell</b>"
      ]
    },
    {
      "cell_type": "code",
      "execution_count": null,
      "id": "d7fed452",
      "metadata": {
        "id": "d7fed452"
      },
      "outputs": [],
      "source": [
        "#CODE HERE"
      ]
    },
    {
      "cell_type": "code",
      "execution_count": null,
      "id": "18637449",
      "metadata": {
        "id": "18637449",
        "scrolled": true
      },
      "outputs": [],
      "source": [
        "print(\"B:\"+str(b),\"D:\" + str(d))"
      ]
    },
    {
      "cell_type": "code",
      "execution_count": null,
      "id": "622a1de5",
      "metadata": {
        "id": "622a1de5",
        "scrolled": true
      },
      "outputs": [],
      "source": [
        "#an alternative way to perform multiple assignments in the same line\n",
        "a, b, c, d = 10, 20, 30, 40\n",
        "print(f'B: {b}\\nD: {d}')"
      ]
    },
    {
      "cell_type": "markdown",
      "id": "463216ad",
      "metadata": {
        "id": "463216ad"
      },
      "source": [
        "### 1.2 Mathematical operators <a class=\"anchor\" id=\"third-bullet\"></a>\n",
        "[Back to TOC](#toc)\n",
        "\n",
        "\n",
        "Python includes operators to perform the most basic Arithmetic operations:\n",
        "\n",
        "a. The plus operator '<b>+</b>' adds the two values on either side of the operator;\\\n",
        "b. The minus operator '<b>-</b>' subtracts the righ hand operand from the left hand operand;\\\n",
        "c. The multiplication operator '<b>*</b>' multiplies values on either side of the operator;\\\n",
        "d. The exponent operator '<b>**</b>' performs the exponential (power) calculation on operators;\\\n",
        "e. The division operator '<b>/</b>' divides left hand operand by right hand operand;\\\n",
        "f. The modulus operator '<b>%</b>' divides left hand operand by right hand operand and returns remainder;\\\n",
        "g. The floor operator '<b>//</b>' division of operands where the result is the quotient in which the digits after the decimal point are removed. If one operand is negative, the result is floored, i.e., rounded away from zero (towards negative infinity);\n",
        "\n",
        "\n",
        "<b>3. Run the cell below to confirm the differences between different operators</b>"
      ]
    },
    {
      "cell_type": "code",
      "execution_count": null,
      "id": "c3642052",
      "metadata": {
        "id": "c3642052"
      },
      "outputs": [],
      "source": [
        "print(4 + 5) #plus\n",
        "print(4 - 5) #minus\n",
        "print(4 * 4) #multiplication\n",
        "print(2 ** 4) #the exponent\n",
        "\n",
        "#Operators related with division\n",
        "print(65 / 7) #division\n",
        "print(65 % 7) #modulus\n",
        "print(65 // 7) #floor\n",
        "print(-65 // 7) #floor with negative numbers"
      ]
    },
    {
      "cell_type": "markdown",
      "id": "5c21a17d",
      "metadata": {
        "id": "5c21a17d"
      },
      "source": [
        "### 1.3 Python data types <a class=\"anchor\" id=\"fourth-bullet\"></a>\n",
        "[Back to TOC](#toc)\n",
        "\n",
        "\n",
        "Unlike other programming languages, Python does not require the declaration of a data type upon a variable's initial assignment. Based on the inserted values, the Python interpreter automatically decides which is the most approppriate data type.\n",
        "\n",
        "Python manipulates objects, each with its own type. The types are either scalar or non-scalar. Scalar types are indivisible, atomic. Non-scalar types (strings, for example) have an internal structure.\n",
        "\n",
        "- **int** - represent integers. Integer literals of type int are written in the usual way for integers (e.g., -3, 5, 10002).\n",
        "\n",
        "- **float** - represent real numbers. Float type literals always include a decimal point (e.g., 3.0 or 3.17 or -28.72). Scientific notation can be used (e.g., 1.6E3 represents 1.6*10^3, or 1600.0).\n",
        "\n",
        "- **bool** - represents the boolean values True and False.\n",
        "\n",
        "- **None** - is a type that has only one value and represents \"nothing,\" an undefined value.\n",
        "\n",
        "\n",
        "<b>4. Run the cells below to confirm differences between vanilla Python data types:</b>\n",
        "<br>4.1. Numeric data types<br>"
      ]
    },
    {
      "cell_type": "code",
      "execution_count": null,
      "id": "babba3ca",
      "metadata": {
        "id": "babba3ca",
        "scrolled": true
      },
      "outputs": [],
      "source": [
        "x = 3    # int\n",
        "y = 5.3  # float\n",
        "z = 1j   # complex\n",
        "print(type(x))\n",
        "print(type(y))\n",
        "print(type(z))"
      ]
    },
    {
      "cell_type": "markdown",
      "id": "ba65b157",
      "metadata": {
        "id": "ba65b157"
      },
      "source": [
        "<br> 4.2 Boolean Operators <br>\n",
        "\n",
        "- `a and b` is `True` if both `a` and `b` are `True` and `False` otherwise.\n",
        "- `a or b` is `True` if at least one of `a` and `b` is `True` and `False` otherwise.\n",
        "- `not a` is `True` if `a` is `False` and `False` if `a` is `True`."
      ]
    },
    {
      "cell_type": "code",
      "execution_count": null,
      "id": "bcd9c809",
      "metadata": {
        "id": "bcd9c809"
      },
      "outputs": [],
      "source": [
        "\n",
        "bool_1 = True #Boolean\n",
        "print(type(bool_1))"
      ]
    },
    {
      "cell_type": "markdown",
      "id": "04d1fa50",
      "metadata": {
        "id": "04d1fa50"
      },
      "source": [
        "### 1.4 Strings <a class=\"anchor\" id=\"fifth-bullet\"></a>\n",
        "[Back to TOC](#toc)\n",
        "\n",
        "\n",
        "The sum operation (+) isn't limited to numeric objects: it can be used, in some way, on most kinds of objects.\n",
        "\n",
        "One example of this is strings: you can <i>add</i> one string to the end of another.\n",
        "\n",
        "<b>5. Run the cell below to confirm that you can add one string to the end of another</b>"
      ]
    },
    {
      "cell_type": "code",
      "execution_count": null,
      "id": "0e6c6159",
      "metadata": {
        "id": "0e6c6159"
      },
      "outputs": [],
      "source": [
        "string_1 = 'Hello world!' #string\n",
        "string_2 = ' Good morning!'\n",
        "print(string_1 + string_2)"
      ]
    },
    {
      "cell_type": "markdown",
      "id": "bf4e2837",
      "metadata": {
        "id": "bf4e2837"
      },
      "source": [
        "#### Some String Methods (abbreviated and simplified list)\n",
        "\n",
        "Let `s` and `s1` be strings.\n",
        "\n",
        "##### \"Observer\" Methods\n",
        "- Designation normally used with mutable objects\n",
        "\n",
        "| Method | Description |\n",
        "| --- | --- |\n",
        "| `s.count(s1)` | Returns the number of times `s1` occurs in `s` |\n",
        "| `s.find(s1)` | Returns the index of the first occurrence of `s1` in `s`, or -1 if `s1` does not exist in `s` |\n",
        "| `s.rfind(s1)` | \"reverse find\": the same as `find`, but starts searching from the end of `s` |\n",
        "| `s.index(s1)` | The same as `find`, but raises an exception if `s1` does not exist in `s` |\n",
        "| `s.rindex(s1)` | \"reverse index\": the same as `index`, but starts searching from the end of `s` |\n",
        "\n",
        "##### \"Mutator\" Methods (note the quotes!)\n",
        "- A misuse of language, using a designation usually reserved for mutable objects\n",
        "- These methods do not modify the string `s` to which they are applied\n",
        "- They return a new string, or another object, created from the original string `s`\n",
        "\n",
        "| Method | Description |\n",
        "| --- | --- |\n",
        "| `s.lower()` | Returns a string that results from converting all uppercase characters in `s` to lowercase |\n",
        "| `s.upper()` | Returns a string that results from converting all lowercase characters in `s` to uppercase |\n",
        "| `s.replace(old, new)` | Returns a string that results from replacing all occurrences of the string `old` in `s` with the string `new` |\n",
        "| `s.strip()` | Returns a string that results from removing \"whitespace\" from the start and end of `s` <br> **Note**: Optionally, a string with other characters to remove can be passed to the method |\n",
        "| `s.rstrip()` | Like `strip()`, but only removes \"whitespace\" (or other characters) from the end of `s` |\n",
        "| `s.split(d)` | Splits `s` using `d` as a separator; returns a list of sub-strings of `s` <br> **Note**: `d` is optional <br> **Note**: If `d` is omitted, any whitespace string will be used as a separator |\n",
        "\n",
        "\"Whitespace\" ↔ space, tab, newline, return, formfeed\n",
        "\n",
        "Examples:\n"
      ]
    },
    {
      "cell_type": "code",
      "execution_count": null,
      "id": "bb6509a9",
      "metadata": {
        "id": "bb6509a9"
      },
      "outputs": [],
      "source": [
        "print('zastrazpaz'.count('az'))"
      ]
    },
    {
      "cell_type": "code",
      "execution_count": null,
      "id": "05689637",
      "metadata": {
        "id": "05689637"
      },
      "outputs": [],
      "source": [
        "print('zastrazpaz'.find('az'))"
      ]
    },
    {
      "cell_type": "code",
      "execution_count": null,
      "id": "762d1e6c",
      "metadata": {
        "id": "762d1e6c"
      },
      "outputs": [],
      "source": [
        "print('zastrazpaz'.index('az'))"
      ]
    },
    {
      "cell_type": "code",
      "execution_count": null,
      "id": "c5dd2cb5",
      "metadata": {
        "id": "c5dd2cb5"
      },
      "outputs": [],
      "source": [
        "print('zastrazpaz'.find('asa'))"
      ]
    },
    {
      "cell_type": "code",
      "execution_count": null,
      "id": "ad57b26e",
      "metadata": {
        "id": "ad57b26e"
      },
      "outputs": [],
      "source": [
        "print('zastrazpaz'.index('asa'))"
      ]
    },
    {
      "cell_type": "code",
      "execution_count": null,
      "id": "3905f910",
      "metadata": {
        "id": "3905f910"
      },
      "outputs": [],
      "source": [
        "print('zaStraZpaZ:123'.upper())"
      ]
    },
    {
      "cell_type": "code",
      "execution_count": null,
      "id": "4efc8eb4",
      "metadata": {
        "id": "4efc8eb4"
      },
      "outputs": [],
      "source": [
        "print('  zas\\ntrazpaz\\n\t  \\n'.strip())"
      ]
    },
    {
      "cell_type": "code",
      "execution_count": null,
      "id": "45517d0e",
      "metadata": {
        "id": "45517d0e"
      },
      "outputs": [],
      "source": [
        "print('  zas\\ntrazpaz\\n\t  \\n'.rstrip())"
      ]
    },
    {
      "cell_type": "code",
      "execution_count": null,
      "id": "a1cbd24f",
      "metadata": {
        "id": "a1cbd24f"
      },
      "outputs": [],
      "source": [
        "print('A short      ,phrase'.split(','))\n",
        "\n",
        "# In cell [18]: Correct usage of the print function with split method\n",
        "print('A short phrase'.split(' '))\n",
        "\n",
        "# In cell [19]: Using split method with 'u' as the separator\n",
        "print('A short phrase'.split('a'))\n"
      ]
    },
    {
      "cell_type": "markdown",
      "id": "fa0732e8",
      "metadata": {
        "id": "fa0732e8"
      },
      "source": [
        "You can also turn other objects into strings\n",
        "\n",
        "<b>6. Use str() to transform a numeric variable into a string, then show the transformation's data type</b>"
      ]
    },
    {
      "cell_type": "code",
      "execution_count": null,
      "id": "126561a2",
      "metadata": {
        "id": "126561a2"
      },
      "outputs": [],
      "source": [
        "#CODE HERE"
      ]
    },
    {
      "cell_type": "markdown",
      "id": "21c834d2",
      "metadata": {
        "id": "21c834d2"
      },
      "source": [
        "Thanks to the last two features, it's possible to make and manipulate strings based on any kind of results"
      ]
    },
    {
      "cell_type": "markdown",
      "id": "bc5073ee",
      "metadata": {
        "id": "bc5073ee"
      },
      "source": [
        "## 2. Collection data types <a class=\"anchor\" id=\"sixth-bullet\"></a>\n",
        "[Back to TOC](#toc)\n",
        "\n",
        "\n",
        "Python has several built-in types that are useful for storing and manipulating data: list, tuple, dict. Here is the official Python documentation on these types (as well as others): https://docs.python.org/3/ibrary/stdtypes.html.\n",
        "\n",
        "### 2.1 Lists <a class=\"anchor\" id=\"seventh-bullet\"></a>\n",
        "\n",
        "Lists are mutable arrays and, in Python, lists are inside square brackets [], with contents being separated by commas. Lists can contain multipl different objects such as integers, strings, and other lists as well. The address of each element within a list is called an <b>index</b>. An index is used to access and refer to items within a list.\n",
        "\n",
        "<b>1. Run the next cell to create a list called countries contaning \"Portugal\", \"Spain\", \"France\" and \"Belgium\"</b>"
      ]
    },
    {
      "cell_type": "code",
      "execution_count": null,
      "id": "71888ca7",
      "metadata": {
        "id": "71888ca7"
      },
      "outputs": [],
      "source": [
        "#Creating a list\n",
        "countries = [\"Portugal\", \"Spain\", \"France\", \"Belgium\"]\n",
        "# or\n",
        "# countries = list(\"Portugal\", \"Spain\", \"France\", \"Belgium\")"
      ]
    },
    {
      "cell_type": "markdown",
      "id": "395d4a5f",
      "metadata": {
        "id": "395d4a5f"
      },
      "source": [
        "<b>2. Use positive and negative indexing to identify each element in the list</b>"
      ]
    },
    {
      "cell_type": "code",
      "execution_count": null,
      "id": "c408a172",
      "metadata": {
        "id": "c408a172"
      },
      "outputs": [],
      "source": [
        "print('Positive indexing:', countries[0], 'Negative indexing:', countries[-4]) #Portugal\n",
        "print('Positive indexing:', countries[1], 'Negative indexing:', countries[-3]) #Spain\n",
        "print('Positive indexing:', countries[2], 'Negative indexing:', countries[-2]) #France\n",
        "print('Positive indexing:', countries[3], 'Negative indexing:', countries[-1]) #Belgium"
      ]
    },
    {
      "cell_type": "markdown",
      "id": "5301f918",
      "metadata": {
        "id": "5301f918"
      },
      "source": [
        "List slicing is a useful way to access a slice of elements in a list.\n",
        "\n",
        "<b>3. Slice the list countries, only keeping Portugal and Spain</b>"
      ]
    },
    {
      "cell_type": "code",
      "execution_count": null,
      "id": "93dff670",
      "metadata": {
        "id": "93dff670"
      },
      "outputs": [],
      "source": [
        "countries[:2] #ending index is excluded from selection"
      ]
    },
    {
      "cell_type": "markdown",
      "id": "e08c4be0",
      "metadata": {
        "id": "e08c4be0"
      },
      "source": [
        "<b>4. Slice the list countries, only keeping France and Belgium</b>"
      ]
    },
    {
      "cell_type": "code",
      "execution_count": null,
      "id": "e4aa1e1b",
      "metadata": {
        "id": "e4aa1e1b"
      },
      "outputs": [],
      "source": [
        "#CODE HERE"
      ]
    },
    {
      "cell_type": "markdown",
      "id": "ed9eb4f3",
      "metadata": {
        "id": "ed9eb4f3"
      },
      "source": [
        "<b>5. Slice the list countries, only keeping Spain and France</b>"
      ]
    },
    {
      "cell_type": "code",
      "execution_count": null,
      "id": "8e3f341e",
      "metadata": {
        "id": "8e3f341e"
      },
      "outputs": [],
      "source": [
        "#CODE HERE"
      ]
    },
    {
      "cell_type": "markdown",
      "id": "bd133d11",
      "metadata": {
        "id": "bd133d11"
      },
      "source": [
        "<b>6. Take a slice that contains all elements of countries</b>"
      ]
    },
    {
      "cell_type": "code",
      "execution_count": null,
      "id": "69e07caf",
      "metadata": {
        "id": "69e07caf"
      },
      "outputs": [],
      "source": [
        "#CODE HERE"
      ]
    },
    {
      "cell_type": "markdown",
      "id": "bcc231e2",
      "metadata": {
        "id": "bcc231e2"
      },
      "source": [
        "#### List methods\n",
        "\n",
        "A Python method is like a Python function, but it must be called on an object. Lists have their own methods, whose most popular methods include `.sort()` and `.append() `\n",
        "\n",
        "By default, the sort method sorts the list elements by ascending order\n",
        "The append method adds new elements to the end of the list\n",
        "\n",
        "<b>7. Use the `.append()` method to add 2 new countries to the list: \"Italy and \"Germany\". Sort all countries in descending order afterward using the `.sort()` method</b>"
      ]
    },
    {
      "cell_type": "code",
      "execution_count": null,
      "id": "e89fa759",
      "metadata": {
        "id": "e89fa759"
      },
      "outputs": [],
      "source": [
        "#start by adding the new coutries\n",
        "#CODE HERE\n",
        "\n",
        "#then use the sort method with reverse = True to sort in descending order\n",
        "#CODE HERE\n",
        "\n",
        "#vizualize the list countries to check whether the changes occured\n",
        "countries"
      ]
    },
    {
      "cell_type": "markdown",
      "id": "a28ce432",
      "metadata": {
        "id": "a28ce432"
      },
      "source": [
        "Lists are mutable, which, among other things, also means that we can edit the contents at a specific location.\n",
        "\n",
        "<b>8. Edit the first element of list countries to \"United Kindgom\"</b>"
      ]
    },
    {
      "cell_type": "code",
      "execution_count": null,
      "id": "e5807002",
      "metadata": {
        "id": "e5807002"
      },
      "outputs": [],
      "source": [
        "#CODE HERE\n",
        "\n",
        "#print to confirm change\n",
        "countries"
      ]
    },
    {
      "cell_type": "markdown",
      "id": "12df875d",
      "metadata": {
        "id": "12df875d"
      },
      "source": [
        "Lists are a very particular kind of object. Let's say you're creating a new variable, and to it you assign another variable, with a list as a value.\n",
        "\n",
        "For most other objects, this new variable has the same value as the old variable once had. For lists, <i>the same list</i> will be accessible by calling either variable.\n",
        "\n",
        "To prevent this, you can save a copy of your list (a slice containing all of your list's elements) in your new variable.\n",
        "\n",
        "<b>9. Run the cells below to see what happens to the countries_same and the countries_copy lists when you edit the list countries</b>"
      ]
    },
    {
      "cell_type": "code",
      "execution_count": null,
      "id": "3c5fbe7e",
      "metadata": {
        "id": "3c5fbe7e",
        "scrolled": true
      },
      "outputs": [],
      "source": [
        "countries_same = countries\n",
        "countries_copy = countries[:]\n",
        "\n",
        "countries[1] = \"Ireland\" #second position\n",
        "\n",
        "#print to confirm change\n",
        "print(\"countries :\",countries)\n",
        "print(\"countries_same :\",countries_same)\n",
        "print(\"countries_copy :\",countries_copy)"
      ]
    },
    {
      "cell_type": "markdown",
      "id": "51506378",
      "metadata": {
        "id": "51506378"
      },
      "source": [
        "#### 2.1.1 Observers vs. Mutators\n",
        "- Observer methods *observe* the state of the object\n",
        "- Mutator methods *modify* the state of the object\n",
        "\n",
        "| Method | Description | Observer or Mutator? |\n",
        "| --- | --- | --- |\n",
        "| `L.append(e)` | Adds e to the end of L | Mutator |\n",
        "| `L.count(e)` | Returns the number of times e occurs in L | Observer |\n",
        "| `L.insert(i, e)` | Inserts the object e into L at index i | Mutator |\n",
        "| `L.extend(L1)` | Appends the elements of L1 to the end of L <br> **Note**: L1 can be any iterable object: tuple, list, file, etc. | Mutator |\n",
        "| `L.remove(e)` | Removes the first occurrence of e in L <br> (If e is not found, it raises an exception) | Mutator |\n",
        "| `L.index(e)` | Returns the index of the first occurrence of e in L <br> (If e is not found, it raises an exception) | Observer |\n",
        "| `L.pop(i)` | Removes the item at index i <br> (If i is omitted, it defaults to -1, i.e., the last element of L) <br> **Note**: L cannot be an empty list <br> **Note**: The item must be within the bounds of L <br> The removed item is also returned by the method | Mutator |\n",
        "| `L.sort()` | Sorts L in ascending order | Mutator |\n",
        "| `L.reverse()` | Reverses the order of the elements in L | Mutator |\n",
        "\n",
        "#### Notes:\n",
        "- In particular cases, it may happen that a mutator method does not modify the state of the object to which it is applied; examples:\n",
        "  - `L.extend(L1)` leaves L unchanged if L1 is an empty list\n",
        "  - `L.sort()` does not sort L if L is already sorted\n",
        "  - `L.reverse()` does not alter L if it is \"read\" the same way from the beginning to the end or from the end to the beginning\n",
        "\n",
        "- Mutators act by side effect\n",
        "  - We do not use the return value, except possibly in the case of `pop()`\n",
        "  - Therefore, `pop()` has a primary effect (which can be ignored), in addition to the secondary one\n",
        "\n",
        "- Concatenation (`+`) and slicing do not have side effects: they create new lists, without altering the original lists\n",
        "\n"
      ]
    },
    {
      "cell_type": "markdown",
      "id": "3cd40b49",
      "metadata": {
        "id": "3cd40b49"
      },
      "source": [
        "\n",
        "#### Examples – concatenation vs. extend() vs. append()"
      ]
    },
    {
      "cell_type": "code",
      "execution_count": null,
      "id": "a3786227",
      "metadata": {
        "id": "a3786227"
      },
      "outputs": [],
      "source": [
        "L1 = [1, 2, 3]\n",
        "L2 = [4, 5, 6]\n",
        "L3 = L1 + L2\n",
        "print(L3)"
      ]
    },
    {
      "cell_type": "code",
      "execution_count": null,
      "id": "1b6af309",
      "metadata": {
        "id": "1b6af309"
      },
      "outputs": [],
      "source": [
        "L1.extend(L2)\n",
        "print(L1)"
      ]
    },
    {
      "cell_type": "code",
      "execution_count": null,
      "id": "55660a46",
      "metadata": {
        "id": "55660a46"
      },
      "outputs": [],
      "source": [
        "L1.append(L2)\n",
        "print(L1)\n",
        "L1.pop()\n",
        "print(L1)"
      ]
    },
    {
      "cell_type": "markdown",
      "id": "24b7eb5b",
      "metadata": {
        "id": "24b7eb5b"
      },
      "source": [
        "### 2.2 Tuples<a class=\"anchor\" id=\"eighth-bullet\"></a>\n",
        "[Back to TOC](#toc)\n",
        "\n",
        "\n",
        "A tuple is a fixed-length, immutable sequence of Python objects. Python tuples are enclosed between parentheses (). Tuples are semantically similar to lists and can be used interchangeably in many functions. However, <b>tuples are immutable objects, whereas lists are not</b>.\n",
        "\n",
        "<b>10. Create a new tuple called europe containing \"Portugal\", \"Spain\", \"France\" and \"Belgium\"</b>"
      ]
    },
    {
      "cell_type": "code",
      "execution_count": null,
      "id": "a87b2220",
      "metadata": {
        "id": "a87b2220"
      },
      "outputs": [],
      "source": [
        "#CODE HERE"
      ]
    },
    {
      "cell_type": "markdown",
      "id": "ed925a21",
      "metadata": {
        "id": "ed925a21"
      },
      "source": [
        "The syntax for slicing, accessing elements and getting the tuple length are the same as lists what we observed when using lists."
      ]
    },
    {
      "cell_type": "markdown",
      "id": "110474f7",
      "metadata": {
        "id": "110474f7"
      },
      "source": [
        "Tupple Operations:"
      ]
    },
    {
      "cell_type": "code",
      "execution_count": null,
      "id": "69be1c41",
      "metadata": {
        "id": "69be1c41"
      },
      "outputs": [],
      "source": [
        "t1 = (1, \"two\", 3.0)\n",
        "t2 = (t1, 3.14159)      # inclusion\n",
        "print(t2)\n",
        "print(t1 + t2)         # concatenation\n",
        "print((t1 + t2)[3])      # indexing\n",
        "print((t1 + t2)[2:5])    # slicing\n",
        "print((t1+t2)[3])\n",
        "print((t1+t2)[3][1])\n",
        "print((t1+t2)[3][1][0])"
      ]
    },
    {
      "cell_type": "code",
      "execution_count": null,
      "id": "d07ce667",
      "metadata": {
        "id": "d07ce667"
      },
      "outputs": [],
      "source": [
        "print(len(t1))\n",
        "print(len(t2))"
      ]
    },
    {
      "cell_type": "markdown",
      "id": "2ab3d1e2",
      "metadata": {
        "id": "2ab3d1e2"
      },
      "source": [
        "However, unlike lists, tuples do not support item re-assignment"
      ]
    },
    {
      "cell_type": "code",
      "execution_count": null,
      "id": "2389aecc",
      "metadata": {
        "id": "2389aecc"
      },
      "outputs": [],
      "source": [
        "#this cell will lead to an error, and the error is not caused by the UK no longer being in the European Union\n",
        "europe[-1] = \"United Kingdom\""
      ]
    },
    {
      "cell_type": "markdown",
      "id": "769fe627",
      "metadata": {
        "id": "769fe627"
      },
      "source": [
        "#### Strings vs. Tuples vs. Lists\n",
        "- A recapitulation of these three structured types\n",
        "- Followed by a description of some useful methods for strings\n",
        "\n",
        "#### Common Operations to Strings, Tuples, and Lists\n",
        "\n",
        "Let `seq`, `seq1` and `seq2` be sequences of type str, tuple or list, with `seq1` and `seq2` being of the same type.\n",
        "\n",
        "| Operation | Description |\n",
        "| --- | --- |\n",
        "| `seq[i]` | Returns the element at index i in `seq` |\n",
        "| `len(seq)` | Returns the length of `seq` |\n",
        "| `seq1 + seq2` | Returns the concatenation of the two sequences |\n",
        "| `seq[start : end : step]` | Returns a \"slice\" of the sequence `seq` |\n",
        "| `n * seq` | Returns a sequence that repeats `seq` n times |\n",
        "| `e in seq` | Returns True if `e` exists in `seq` (i.e., if `e` is contained in `seq`), False otherwise |\n",
        "| `e not in seq` | Returns True if `e` is not contained in `seq`, False if it is contained in `seq` |\n",
        "| `for e in seq` | Iterates over the elements of the sequence `e` |\n",
        "\n",
        "#### Brief Comparison of Ordered Sequence Types\n",
        "\n",
        "| Type | Elements | Homogeneous? | Examples of Literals | Mutable? |\n",
        "| --- | --- | --- | --- | --- |\n",
        "| `str` | characters | yes | `''`, `'a'`, `'abc:7'` | no |\n",
        "| `tuple` | any | not necessarily | `()`, `(3,)`, `('abc', 4)` | no |\n",
        "| `list` | any | not necessarily | `[]`, `[3]`, `['abc', 4]` | yes |\n"
      ]
    },
    {
      "cell_type": "markdown",
      "id": "be924067",
      "metadata": {
        "id": "be924067"
      },
      "source": [
        "### 2.3 Dictionaries <a class=\"anchor\" id=\"nineth-bullet\"></a>\n",
        "[Back to TOC](#toc)\n",
        "\n",
        "\n",
        "Dictionaries are hash maps. They are created using two curly braces containing keys and values separated by a colon.\\\n",
        "Keys can be thought of as the numerical indexes of a list as they are used to access the values. For that reason, there can only be one single value for each key. However, multiple keys can hold the same value.\\\n",
        "Keys can only be strings, numbers, or tuples, but values can be any data type.\n",
        "\n",
        "\n",
        "<iframe src=\"https://drive.google.com/file/d/1-0EszNbcofb7wOxT_aMUZFHajQm--uBf/preview\" width=\"640\" height=\"480\" allow=\"autoplay\"></iframe>\n",
        "\n",
        "\n",
        "<b>11. Run the cell below to create a dict called country_dict using \"Portugal\", \"Spain\", \"France\" and \"Belgium\" as keys and their respective capital cities as values.\\\n",
        "Use dict methods to identify a list of keys and a list of values. Then obtain the value associated with key \"Portugal\"</b>"
      ]
    },
    {
      "cell_type": "code",
      "execution_count": null,
      "id": "fcdc0d8e",
      "metadata": {
        "id": "fcdc0d8e"
      },
      "outputs": [],
      "source": [
        "#creating the country dict\n",
        "country_dict = {\n",
        "                'Portugal' : 'Lisbon',\n",
        "                'Spain' : 'Madrid',\n",
        "                'France' : 'Paris',\n",
        "                'Belgium' : 'Brussels'\n",
        "                }\n",
        "\n",
        "print(country_dict.keys()) #Keys\n",
        "print(country_dict.values()) #values\n",
        "print(country_dict['Portugal']) #obtaining the value of key Portugal"
      ]
    },
    {
      "cell_type": "markdown",
      "id": "c0cb8916",
      "metadata": {
        "id": "c0cb8916"
      },
      "source": [
        "We can add new *key-value* pairs to the dictionary by assigning values to a new key.\\\n",
        "Likewise, we can edit the values assigned to a key.\n",
        "\n",
        "<b>12. Add \"Italy\" to country_dict as a key and \"Rooome\" as a value. Then, update the value assigned to \"Italy\" with the proper name of the city \"Rome\" </b>"
      ]
    },
    {
      "cell_type": "code",
      "execution_count": null,
      "id": "06365f55",
      "metadata": {
        "id": "06365f55"
      },
      "outputs": [],
      "source": [
        "#CODE HERE"
      ]
    },
    {
      "cell_type": "markdown",
      "id": "c603e3dd",
      "metadata": {
        "id": "c603e3dd"
      },
      "source": [
        "#### Some of the Most Useful Operations\n",
        "\n",
        "| Operation | Description |\n",
        "| --- | --- |\n",
        "| `len(d)` | Returns the number of items in `d` |\n",
        "| `d.keys()` | Returns a list containing the keys of `d` |\n",
        "| `d.values()` | Returns a list containing the values of `d` |\n",
        "| `k in d` | Returns True if the key `k` is in `d`, and False otherwise |\n",
        "| `d[k]` | Returns the value in `d` associated with the key `k`; raises an exception if the key `k` does not exist in `d` |\n",
        "| `d.get(k, v)` | Returns `d[k]` if `k` is in `d`, `v` otherwise |\n",
        "| `d[k] = v` | Associates the value `v` with the key `k` in `d`; if the key already exists, the associated value is replaced |\n",
        "| `del d[k]` | Removes the key `k` (and its association) from `d` |\n",
        "| `del d` | Deletes the dictionary `d` |\n",
        "| `for k in d` | Iterates over the keys of `d` |\n",
        "\n",
        "According to the rules and operations available for the construction of dictionaries,\n",
        "\n",
        "- a dictionary cannot have duplicate keys;\n",
        "\n"
      ]
    },
    {
      "cell_type": "markdown",
      "id": "c2505f29",
      "metadata": {
        "id": "c2505f29"
      },
      "source": [
        "# 3. Control flow<a class=\"anchor\" id=\"tenth-bullet\"></a>\n",
        "[Back to TOC](#toc)\n",
        "\n",
        "\n",
        "Python has several built-in keywords for conditional logic, loops, and other standard control flow concepts found in other programming languages.In this section, our main focus will be on:\n",
        "1. conditions laid out using the <b>if</b> statement\n",
        "2. the <b>for</b> loop\n",
        "3. the <b>while</b> loop\n",
        "\n",
        "For more information on Python control flow, read the docs: https://docs.python.org/3/tutorial/controlflow.html\n",
        "\n",
        "## 3.1 Conditions <a class=\"anchor\" id=\"eleventh-bullet\"></a>\n",
        "\n",
        "Python's <b>if</b> statement verifies whether a condition is <b>True</b> or <b>False</b>. If <b>True</b>, Python executes the code in the following indented block. If the statement is <b>False</b> the program will ignore the task.\n",
        "\n",
        "Let's create a simple statement that says:\n",
        "\"If a is greater than b, assign 2 to a and 4 to b\"\n",
        "\n",
        "Take a look at these two if statements (we will learn about building out if statements soon).\n",
        "\n",
        "**Version 1 (Other Languages)**\n",
        "\n",
        "    if (a>b){\n",
        "        a = 2;\n",
        "        b = 4;\n",
        "    }\n",
        "                        \n",
        "**Version 2 (Python)**   \n",
        "\n",
        "    if a>b:\n",
        "        a = 2\n",
        "        b = 4\n",
        "\n",
        "When in the presence of multiple conditional branches, <b>if</b> is complemented by the <b>elif</b> (else if) and the <b>else statements</b>.\n",
        "\n",
        "<b>1. Use conditional statements to portray the following situation in Python code:</b>\\\n",
        "An individual wants to watch a violent movie (18+) movie that is featured in the cinema.\\\n",
        "If that individual is of legal age, he will be allowed in.\\\n",
        "If not of legal but older than 16 years old, the individual will settle with the 16+ movie available.\\\n",
        "Otherwise, the individual will go back home and watch Netflix."
      ]
    },
    {
      "cell_type": "code",
      "execution_count": null,
      "id": "a6c54e89",
      "metadata": {
        "id": "a6c54e89"
      },
      "outputs": [],
      "source": [
        "age = 17 #set a value for the age variable\n",
        "\n",
        "if age >= 18: #First condition\n",
        "    print(\"I will watch the 18+ movie\")\n",
        "elif age >= 16: #second condition, stated using else if\n",
        "    print(\"I will watch the 16+ movie\")\n",
        "else: #all other cases\n",
        "    print(\"I will go home and watch Netflix\")"
      ]
    },
    {
      "cell_type": "markdown",
      "id": "360e2930",
      "metadata": {
        "id": "360e2930"
      },
      "source": [
        "Python verifies conditions sequentially. If more than one condition is <b>True</b>, Python will execute the first and not verify the following conditions.\n",
        "\n",
        "<b>2. Use conditions to verify whether a man who receives 900 €/month receives below 1000€/month. Then, create a self-evident condition that naturally follows from the first (e.g. check whether the `salary` is also below a 1500€ monthly salary).</b>\\\n",
        "Note that only the code referring to the first condition was executed."
      ]
    },
    {
      "cell_type": "code",
      "execution_count": null,
      "id": "870a0eaa",
      "metadata": {
        "id": "870a0eaa"
      },
      "outputs": [],
      "source": [
        "salary = 1200 #assigning salary\n",
        "\n",
        "#CODE HERE"
      ]
    },
    {
      "cell_type": "markdown",
      "id": "fb89ce61",
      "metadata": {
        "id": "fb89ce61"
      },
      "source": [
        "## 3.2 For Loops<a class=\"anchor\" id=\"twelveth-bullet\"></a>\n",
        "[Back to TOC](#toc)\n",
        "\n",
        "\n",
        "For loops iterate over a collection or an iterater. The particularity of the <b>for</b> loop is that it allow us to easily transverses sequentially each item in a collection data structure such as a list, tuple, set etc.\n",
        "\n",
        "Functioning:\n",
        "\n",
        "- The variable successively assumes the values of the sequence until the sequence ends.\n",
        "- Each time the variable assumes a new value, a block of code is executed.\n",
        "\n",
        "Normally, the sequence is generated using the `range` function.\n",
        "\n",
        "General form:\n",
        "\n",
        "`range(start, stop, step)`\n",
        "\n",
        "- `start` is the first value of the sequence; if omitted, it defaults to 0.\n",
        "- `stop` is the last value of the sequence; it cannot be omitted.\n",
        "- `step` is the increment step; it can be positive or negative; if omitted, it defaults to 1.\n",
        "\n",
        "If `step` is positive: the last element is the largest integer `start + i * step` less than `stop`.\n",
        "\n",
        "If `step` is negative: the last element is the smallest integer `start + i * step` greater than `stop`.\n",
        "\n",
        "Examples of range:\n",
        "\n",
        " - range(5, 40, 10): [5, 15, 25, 35]\n",
        " - range(40, 5, -10) : [40, 30, 20, 10]\n",
        " - range(0, 3): [0, 1, 2]"
      ]
    },
    {
      "cell_type": "markdown",
      "id": "1e435629",
      "metadata": {
        "id": "1e435629"
      },
      "source": [
        "<b>3. Create a for loop that prints numbers 0 through 4</b>"
      ]
    },
    {
      "cell_type": "code",
      "execution_count": null,
      "id": "98925355",
      "metadata": {
        "id": "98925355"
      },
      "outputs": [],
      "source": [
        "# Basic for loop\n",
        "for i in range(5):\n",
        "    print(i)"
      ]
    },
    {
      "cell_type": "markdown",
      "id": "aa36b3e4",
      "metadata": {
        "id": "aa36b3e4"
      },
      "source": [
        "<b>4. Print all elements in the list countries using a for loop</b>"
      ]
    },
    {
      "cell_type": "code",
      "execution_count": null,
      "id": "27f23477",
      "metadata": {
        "id": "27f23477"
      },
      "outputs": [],
      "source": [
        "#CODE HERE"
      ]
    },
    {
      "cell_type": "markdown",
      "id": "b245258b",
      "metadata": {
        "id": "b245258b"
      },
      "source": [
        "<b>5. Iterate through the country_dict to print the different keys</b>"
      ]
    },
    {
      "cell_type": "code",
      "execution_count": null,
      "id": "a2600fbb",
      "metadata": {
        "id": "a2600fbb"
      },
      "outputs": [],
      "source": [
        "#CODE HERE"
      ]
    },
    {
      "cell_type": "code",
      "execution_count": null,
      "id": "f2e53f85",
      "metadata": {
        "id": "f2e53f85"
      },
      "outputs": [],
      "source": [
        "country_dict"
      ]
    },
    {
      "cell_type": "markdown",
      "id": "65861e66",
      "metadata": {
        "id": "65861e66"
      },
      "source": [
        "A useful application toward for loops is element-wise pairing with a dictionary.\n",
        "\n",
        "<b>6. Create a list called <i>capitals</i> with the capital city for each country in the list *countries* - \"London\", \"Lisbon\", \"Italy\", \"Berlin\", \"Paris\", and \"Brussels\". This cell will then create a new dictionary, where eack key is a country and the corresponding value is the country's capital</b>"
      ]
    },
    {
      "cell_type": "code",
      "execution_count": null,
      "id": "4615ccd5",
      "metadata": {
        "id": "4615ccd5"
      },
      "outputs": [],
      "source": [
        "#first, create a list with the capital cities for each of countries in the list countries\n",
        "#CODE HERE\n",
        "\n",
        "new_country_dict = {} #creates a new empty dict\n",
        "for key, value in zip(countries, capitals):\n",
        "    new_country_dict[key] = value\n",
        "\n",
        "print(new_country_dict)"
      ]
    },
    {
      "cell_type": "markdown",
      "id": "dbb87597",
      "metadata": {
        "id": "dbb87597"
      },
      "source": [
        "We can also create lists using other iterables, for example:"
      ]
    },
    {
      "cell_type": "code",
      "execution_count": null,
      "id": "83b2fdde",
      "metadata": {
        "id": "83b2fdde"
      },
      "outputs": [],
      "source": [
        "L = [x**2 for x in range(1,6)]          # from a list\n",
        "print(L)\n",
        "\n",
        "print([x**2 for x in (1, 2, 3, 4, 5)])   # from a tuple"
      ]
    },
    {
      "cell_type": "markdown",
      "id": "d4592104",
      "metadata": {
        "id": "d4592104"
      },
      "source": [
        "## 3.3 While Loops<a class=\"anchor\" id=\"thirteenth-bullet\"></a>\n",
        "[Back to TOC](#toc)\n",
        "\n",
        "\n",
        "The <b>while</b> loop we can execute a sequence of statements as long as a condition is <b>True</b>.\n",
        "\n",
        "<b>7. Create a while loop that prints numbers 0 through 4</b>"
      ]
    },
    {
      "cell_type": "code",
      "execution_count": null,
      "id": "eee29064",
      "metadata": {
        "id": "eee29064"
      },
      "outputs": [],
      "source": [
        "num = 0\n",
        "\n",
        "while num < 5:\n",
        "    print(num)\n",
        "    num += 1"
      ]
    },
    {
      "cell_type": "markdown",
      "id": "6faabb69",
      "metadata": {
        "id": "6faabb69"
      },
      "source": [
        "<b>8. Print all elements in the list countries using a while loop</b>"
      ]
    },
    {
      "cell_type": "code",
      "execution_count": null,
      "id": "b2d5e101",
      "metadata": {
        "id": "b2d5e101"
      },
      "outputs": [],
      "source": [
        "num = 0\n",
        "while num < len(countries):\n",
        "    pass #CODE HERE - replace pass"
      ]
    },
    {
      "cell_type": "markdown",
      "id": "3317eede",
      "metadata": {
        "id": "3317eede"
      },
      "source": [
        "While loops are suited to situations where you will only iterate based on whether a condition is true or not.\n",
        "\n",
        "<b>9. Run the next cell to iterate through the country list to print the names of the countries until the total amount of characters in the country names is higher than 25</b>"
      ]
    },
    {
      "cell_type": "code",
      "execution_count": null,
      "id": "6d3205e2",
      "metadata": {
        "id": "6d3205e2"
      },
      "outputs": [],
      "source": [
        "#first, create a list with the capital cities for each of countries in the list countries\n",
        "\n",
        "letters = 0\n",
        "indexx = 0\n",
        "\n",
        "while letters < 26:\n",
        "    country = countries[indexx]\n",
        "    print(country)\n",
        "    indexx += 1\n",
        "    letters += len(country)"
      ]
    },
    {
      "cell_type": "markdown",
      "id": "33eea82e",
      "metadata": {
        "id": "33eea82e"
      },
      "source": [
        "# 4. Functions<a class=\"anchor\" id=\"fourteenth-bullet\"></a>\n",
        "[Back to TOC](#toc)\n",
        "\n",
        "\n",
        "For longer programs it's often necessary to perform a specific task multiple times. For this purpose, <i>functions</i> are used.\n",
        "\n",
        "In a function, a task or group of tasks are defined, and when the function is called, the task(s) is/are executed.\n",
        "\n",
        "An important aspect of functions is the <i>return</i> instruction. With it, the function produces one or more outputs after being called, and these outputs can be saved in variables.\n",
        "\n",
        "## 4.1 Basic functions<a class=\"anchor\" id=\"fifteenth-bullet\"></a>\n",
        "\n",
        "<b>1. Create a function that prints \"Hello world!\"</b>"
      ]
    },
    {
      "cell_type": "code",
      "execution_count": null,
      "id": "0db41714",
      "metadata": {
        "id": "0db41714"
      },
      "outputs": [],
      "source": [
        "def hello_print():\n",
        "    print('Hello world!')\n",
        "\n",
        "hello_print()"
      ]
    },
    {
      "cell_type": "code",
      "execution_count": null,
      "id": "75b332c4",
      "metadata": {
        "id": "75b332c4"
      },
      "outputs": [],
      "source": [
        "a = hello_print()"
      ]
    },
    {
      "cell_type": "code",
      "execution_count": null,
      "id": "2cf7a8b3",
      "metadata": {
        "id": "2cf7a8b3"
      },
      "outputs": [],
      "source": [
        "type(a)"
      ]
    },
    {
      "cell_type": "markdown",
      "id": "7228b5a7",
      "metadata": {
        "id": "7228b5a7"
      },
      "source": [
        "<b>2. Create a function that returns the string \"Hello world!\". Then print the result of calling said function</b>"
      ]
    },
    {
      "cell_type": "code",
      "execution_count": null,
      "id": "557d5515",
      "metadata": {
        "id": "557d5515"
      },
      "outputs": [],
      "source": [
        "#CODE HERE"
      ]
    },
    {
      "cell_type": "code",
      "execution_count": null,
      "id": "108aaef5",
      "metadata": {
        "id": "108aaef5"
      },
      "outputs": [],
      "source": [
        "b = return_hello()\n",
        "print (b)"
      ]
    },
    {
      "cell_type": "code",
      "execution_count": null,
      "id": "c906cb1a",
      "metadata": {
        "id": "c906cb1a"
      },
      "outputs": [],
      "source": [
        "type(b)"
      ]
    },
    {
      "cell_type": "markdown",
      "id": "c3f41007",
      "metadata": {
        "id": "c3f41007"
      },
      "source": [
        "## 4.2 Variables<a class=\"anchor\" id=\"sixteenth-bullet\"></a>\n",
        "[Back to TOC](#toc)\n",
        "\n",
        "\n",
        "Often, inputs are passed into functions. This is a vital aspect of functions, as it enables the use and transforming of variables in several ways. However,you need to call the function with the approproate amount of variables.\n",
        "\n",
        "<b>3. Create a function that prints any input</b>"
      ]
    },
    {
      "cell_type": "code",
      "execution_count": null,
      "id": "9d908e00",
      "metadata": {
        "id": "9d908e00"
      },
      "outputs": [],
      "source": [
        "def printer(something):\n",
        "    placeholder= something\n",
        "    print(placeholder)\n",
        "\n",
        "printer('Something')"
      ]
    },
    {
      "cell_type": "markdown",
      "id": "fa457484",
      "metadata": {
        "id": "fa457484"
      },
      "source": [
        "<b>4. Create a function that returns the sum of two items. Then, use it to get the sum of 3 and 4, and save the result to a variable</b>"
      ]
    },
    {
      "cell_type": "code",
      "execution_count": null,
      "id": "17b3b22c",
      "metadata": {
        "id": "17b3b22c"
      },
      "outputs": [],
      "source": [
        "def sum(x,y):\n",
        "    #CODE HERE"
      ]
    },
    {
      "cell_type": "markdown",
      "id": "4de76e42",
      "metadata": {
        "id": "4de76e42"
      },
      "source": [
        "<b>5. Create a function that prints an input, followed by the string \", but cooler\"</b>"
      ]
    },
    {
      "cell_type": "code",
      "execution_count": null,
      "id": "9df988fa",
      "metadata": {
        "id": "9df988fa"
      },
      "outputs": [],
      "source": [
        "#CODE HERE"
      ]
    },
    {
      "cell_type": "markdown",
      "id": "c0923b00",
      "metadata": {
        "id": "c0923b00"
      },
      "source": [
        "Parameters can have default values. Therefore, when they're called, if a parameter doesn't receive a corresponding output, a default value can be used instead. You can do this by writing an input as such: <i>def function(input = something)</i>\n",
        "\n",
        "<b>6. Create a function that prints an input if an input is passed to it, and prints \"No input\" otherwise</b>"
      ]
    },
    {
      "cell_type": "code",
      "execution_count": null,
      "id": "33efb17e",
      "metadata": {
        "id": "33efb17e"
      },
      "outputs": [],
      "source": [
        "#CODE HERE"
      ]
    },
    {
      "cell_type": "markdown",
      "id": "6cb9344d",
      "metadata": {
        "id": "6cb9344d"
      },
      "source": [
        "<b>7. Create a function that prints every item of an iterable object (a string, a list, a tuple, and so on)</b>"
      ]
    },
    {
      "cell_type": "code",
      "execution_count": null,
      "id": "63896d45",
      "metadata": {
        "id": "63896d45"
      },
      "outputs": [],
      "source": [
        "#CODE HERE"
      ]
    },
    {
      "cell_type": "markdown",
      "id": "2364cce9",
      "metadata": {
        "id": "2364cce9"
      },
      "source": [
        "### Bad Programming Practices (to avoid)\n",
        "\n",
        "- Multiple returns in the same function\n",
        "- Returns inside conditional statements\n",
        "- Returns inside loops\n"
      ]
    },
    {
      "cell_type": "markdown",
      "id": "cbe8dc8b",
      "metadata": {
        "id": "cbe8dc8b"
      },
      "source": [
        "## 4.3 Recursion<a class=\"anchor\" id=\"seventeenth-bullet\"></a>\n",
        "[Back to TOC](#toc)\n",
        "\n",
        "As shown in the last exercise, you can have an iterative loop in a function. But sometimes it's more convenient to create a <i>recursive</i> function. In a recursive function, a possible return value is calling the function itself. Therefore, the function is called continuously until a stopping condition, defined within the function itself, is reached\n",
        "\n",
        "<b>8. Run the cell below to create a function that prints every item of an iterable object using recursion</b>"
      ]
    },
    {
      "cell_type": "code",
      "execution_count": null,
      "id": "0d87600e",
      "metadata": {
        "id": "0d87600e"
      },
      "outputs": [],
      "source": [
        "def recursive_printer(recursive):\n",
        "    print(recursive[0])\n",
        "    if len(recursive) != 1:\n",
        "        return recursive_printer(recursive[1:])\n",
        "\n",
        "recursive_printer([5,4,3,2,1])"
      ]
    },
    {
      "cell_type": "markdown",
      "id": "ea0153d2",
      "metadata": {
        "id": "ea0153d2"
      },
      "source": [
        "## 4.4 Functions that use input from the user<a class=\"anchor\" id=\"eighteenth-bullet\"></a>\n",
        "[Back to TOC](#toc)"
      ]
    },
    {
      "cell_type": "code",
      "execution_count": null,
      "id": "3f1b2ca8",
      "metadata": {
        "id": "3f1b2ca8"
      },
      "outputs": [],
      "source": [
        "def myMax(x, y):\n",
        "    if x > y:\n",
        "        resposta = x\n",
        "    else:\n",
        "        resposta = y\n",
        "    return resposta\n",
        "\n",
        "def ask2values():\n",
        "    x = eval(input(\"Select the first value: \"))\n",
        "    y = eval(input(\"Select the second value: \"))\n",
        "    return (x, y)"
      ]
    },
    {
      "cell_type": "code",
      "execution_count": null,
      "id": "7a78c2ee",
      "metadata": {
        "id": "7a78c2ee"
      },
      "outputs": [],
      "source": [
        "(x, y) = ask2values()\n",
        "print(\"max =\", myMax(x, y))"
      ]
    },
    {
      "cell_type": "markdown",
      "id": "20bf92b8",
      "metadata": {
        "id": "20bf92b8"
      },
      "source": [
        "It's also worth noting: the function `ask2values()` does not have parameters, but returns a value.\n",
        "\n",
        "The `eval()` function deserves a special mention:\n",
        "\n",
        "- We can assume that the string which is its argument represents a literal, for example, of type int, float, or string; however, `eval()` accepts more general expressions.\n",
        "- If the user wishes to introduce an expression of the string type, they must explicitly place quotes or apostrophes at the beginning and end of the string.\n"
      ]
    },
    {
      "cell_type": "markdown",
      "id": "e5f5ad9b",
      "metadata": {
        "id": "e5f5ad9b"
      },
      "source": [
        "## 5. Bonus content\n",
        "### 5.1 Creating a function for linear search:\n",
        "\n",
        "Linear search is a search algorithm used to find whether a value is part of e.g. a list. It starts at one end of the array and  iterates through every value until it either finds the intended value or the array ends.\\"
      ]
    },
    {
      "cell_type": "code",
      "execution_count": null,
      "id": "ad587679",
      "metadata": {
        "id": "ad587679"
      },
      "outputs": [],
      "source": [
        "def linear_search(item,my_list):\n",
        "    '''sample implementation of linear search'''\n",
        "    i = 0\n",
        "    found = False\n",
        "\n",
        "    while len(my_list) > i and found == False:\n",
        "        if my_list[i] == item:\n",
        "            found = True\n",
        "        else:\n",
        "            i = i + 1\n",
        "\n",
        "    return found"
      ]
    },
    {
      "cell_type": "markdown",
      "id": "b25cb1d5",
      "metadata": {
        "id": "b25cb1d5"
      },
      "source": [
        "Verify whether the function can find values in the list below:"
      ]
    },
    {
      "cell_type": "code",
      "execution_count": null,
      "id": "1e1437b4",
      "metadata": {
        "id": "1e1437b4",
        "scrolled": true
      },
      "outputs": [],
      "source": [
        "search_list = [3,5,6,7,8,343,232,121,323,546,546464,74,454,432,232,45346,778,5,9,66]\n",
        "\n",
        "print(linear_search(9,search_list))\n",
        "print(linear_search(66,search_list))\n",
        "print(linear_search(65,search_list))"
      ]
    },
    {
      "cell_type": "markdown",
      "id": "ee49cc98",
      "metadata": {
        "id": "ee49cc98"
      },
      "source": [
        "Although it is a simple concept, linear search is very inneficient because it requires the algorithm to look from the start to the end of the list.\\\n",
        "The time it takes is not a problem if the list is 10 items long, but it may become problematic with longer lists, especially if the search result is present at the end of the list."
      ]
    },
    {
      "cell_type": "code",
      "execution_count": null,
      "id": "1b68d9a8",
      "metadata": {
        "id": "1b68d9a8"
      },
      "outputs": [],
      "source": [
        "%%timeit\n",
        "linear_search(10000, list(range(10001))) #sample run in list with 10000 elements"
      ]
    },
    {
      "cell_type": "markdown",
      "id": "373e3260",
      "metadata": {
        "id": "373e3260"
      },
      "source": [
        "### 5.2 Creating a function for binary search:\n",
        "\n",
        "Binary search fulfills the same role as linear search, but it follows an alternative route. It requires a sorted list.\\\n",
        "The first step is looking at the median value.\\\n",
        "Then, it decides whether the item we are looking for is smaller (and consequently before) or greater than (and consequently after) the current median value.\\\n",
        "After making the decision, binary search discards the half that serves no future purpose and repeats the process until it finds the value of interest.\\\n",
        "Using the concepts discussed throughout this notebook, create a function that implements binary search on a list."
      ]
    },
    {
      "cell_type": "code",
      "execution_count": null,
      "id": "0ba34c58",
      "metadata": {
        "id": "0ba34c58"
      },
      "outputs": [],
      "source": [
        "def binary_search(item,my_list):\n",
        "#CODE HERE"
      ]
    },
    {
      "cell_type": "code",
      "execution_count": null,
      "id": "b199fdc8",
      "metadata": {
        "id": "b199fdc8"
      },
      "outputs": [],
      "source": [
        "search_list.sort() #binary search works best with sorted lists\n",
        "\n",
        "#tests\n",
        "print(binary_search(9,search_list))\n",
        "print(binary_search(66,search_list))\n",
        "print(binary_search(65,search_list))"
      ]
    },
    {
      "cell_type": "markdown",
      "id": "96aa9049",
      "metadata": {
        "id": "96aa9049"
      },
      "source": [
        "Note that binary search is much faster than linear search."
      ]
    },
    {
      "cell_type": "code",
      "execution_count": null,
      "id": "43071c61",
      "metadata": {
        "id": "43071c61"
      },
      "outputs": [],
      "source": [
        "%%timeit\n",
        "binary_search(10000, list(range(10001))) #sample run in list with 10000 elements"
      ]
    },
    {
      "cell_type": "markdown",
      "id": "34bb65a9",
      "metadata": {
        "id": "34bb65a9"
      },
      "source": [
        "### 5.3 Extra bonus"
      ]
    },
    {
      "cell_type": "code",
      "execution_count": null,
      "id": "7af223f5",
      "metadata": {
        "id": "7af223f5"
      },
      "outputs": [],
      "source": []
    },
    {
      "cell_type": "markdown",
      "id": "71180695",
      "metadata": {
        "id": "71180695"
      },
      "source": [
        "## This Notebook is finished."
      ]
    }
  ],
  "metadata": {
    "colab": {
      "provenance": [],
      "toc_visible": true
    },
    "kernelspec": {
      "display_name": "Python 3 (ipykernel)",
      "language": "python",
      "name": "python3"
    },
    "language_info": {
      "codemirror_mode": {
        "name": "ipython",
        "version": 3
      },
      "file_extension": ".py",
      "mimetype": "text/x-python",
      "name": "python",
      "nbconvert_exporter": "python",
      "pygments_lexer": "ipython3",
      "version": "3.10.9"
    },
    "vscode": {
      "interpreter": {
        "hash": "fe7e48d77119a5ba7a7b050ada3b9a518b47e3513256f2007e0ba3e3513bf1fd"
      }
    }
  },
  "nbformat": 4,
  "nbformat_minor": 5
}